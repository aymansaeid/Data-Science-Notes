{
 "cells": [
  {
   "cell_type": "markdown",
   "metadata": {},
   "source": [
    "# NumPy Practice\n",
    "\n",
    "For further reference and resources, it's advised to check out the [NumPy documentation](https://numpy.org/devdocs/user/index.html)."
   ]
  },
  {
   "cell_type": "code",
   "execution_count": 45,
   "metadata": {},
   "outputs": [],
   "source": [
    "# Import NumPy as its abbreviation 'np'\n",
    "import numpy as np\n"
   ]
  },
  {
   "cell_type": "code",
   "execution_count": 46,
   "metadata": {},
   "outputs": [],
   "source": [
    "# Create a 1-dimensional NumPy array using np.array()\n",
    "array1d = np.array([1, 2, 3, 4, 5])\n",
    "\n",
    "\n",
    "# Create a 2-dimensional NumPy array using np.array()\n",
    "array2d = np.array([[1, 2, 3], [4, 5, 6]])\n",
    "\n",
    "\n",
    "# Create a 3-dimensional Numpy array using np.array()\n",
    "array3d = np.array([[[1, 2], [3, 4]], [[5, 6], [7, 8]]])\n"
   ]
  },
  {
   "cell_type": "markdown",
   "metadata": {},
   "source": [
    "Now we've you've created 3 different arrays, let's find details about them.\n",
    "\n",
    "Find the shape, number of dimensions, data type, size and type of each array."
   ]
  },
  {
   "cell_type": "code",
   "execution_count": 47,
   "metadata": {},
   "outputs": [
    {
     "name": "stdout",
     "output_type": "stream",
     "text": [
      "1D Array:\n",
      "Shape: (5,)\n",
      "Dimensions: 1\n",
      "Data type: int64\n",
      "Size: 5\n",
      "Type: <class 'numpy.ndarray'>\n"
     ]
    }
   ],
   "source": [
    "# Attributes of 1-dimensional array (shape, \n",
    "# number of dimensions, data type, size and type)\n",
    "print(\"1D Array:\")\n",
    "print(\"Shape:\", array1d.shape)\n",
    "print(\"Dimensions:\", array1d.ndim)\n",
    "print(\"Data type:\", array1d.dtype)\n",
    "print(\"Size:\", array1d.size)\n",
    "print(\"Type:\", type(array1d))"
   ]
  },
  {
   "cell_type": "code",
   "execution_count": 48,
   "metadata": {},
   "outputs": [
    {
     "name": "stdout",
     "output_type": "stream",
     "text": [
      "\n",
      "2D Array:\n",
      "Shape: (2, 3)\n",
      "Dimensions: 2\n",
      "Data type: int64\n",
      "Size: 6\n",
      "Type: <class 'numpy.ndarray'>\n"
     ]
    }
   ],
   "source": [
    "# Attributes of 2-dimensional array\n",
    "print(\"\\n2D Array:\")\n",
    "print(\"Shape:\", array2d.shape)\n",
    "print(\"Dimensions:\", array2d.ndim)\n",
    "print(\"Data type:\", array2d.dtype)\n",
    "print(\"Size:\", array2d.size)\n",
    "print(\"Type:\", type(array2d))"
   ]
  },
  {
   "cell_type": "code",
   "execution_count": 49,
   "metadata": {},
   "outputs": [
    {
     "name": "stdout",
     "output_type": "stream",
     "text": [
      "\n",
      "3D Array:\n",
      "Shape: (2, 2, 2)\n",
      "Dimensions: 3\n",
      "Data type: int64\n",
      "Size: 8\n",
      "Type: <class 'numpy.ndarray'>\n"
     ]
    }
   ],
   "source": [
    "# Attributes of 3-dimensional array\n",
    "print(\"\\n3D Array:\")\n",
    "print(\"Shape:\", array3d.shape)\n",
    "print(\"Dimensions:\", array3d.ndim)\n",
    "print(\"Data type:\", array3d.dtype)\n",
    "print(\"Size:\", array3d.size)\n",
    "print(\"Type:\", type(array3d))"
   ]
  },
  {
   "cell_type": "code",
   "execution_count": 50,
   "metadata": {},
   "outputs": [
    {
     "name": "stdout",
     "output_type": "stream",
     "text": [
      "   0  1  2\n",
      "0  1  2  3\n",
      "1  4  5  6\n"
     ]
    }
   ],
   "source": [
    "# Import pandas and create a DataFrame out of one\n",
    "# of the arrays you've created\n",
    "\n",
    "import pandas as pd\n",
    "\n",
    "df = pd.DataFrame(array2d)\n",
    "print(df)"
   ]
  },
  {
   "cell_type": "code",
   "execution_count": 51,
   "metadata": {},
   "outputs": [],
   "source": [
    "# Create an array of shape (10, 2) with only ones\n",
    "ones_array = np.ones((10, 2))"
   ]
  },
  {
   "cell_type": "code",
   "execution_count": 52,
   "metadata": {},
   "outputs": [],
   "source": [
    "# Create an array of shape (7, 2, 3) of only zeros\n",
    "zeros_array = np.zeros((7, 2, 3))"
   ]
  },
  {
   "cell_type": "code",
   "execution_count": 53,
   "metadata": {},
   "outputs": [],
   "source": [
    "# Create an array within a range of 0 and 100 with step 3\n",
    "range_array = np.arange(0, 100, 3)"
   ]
  },
  {
   "cell_type": "code",
   "execution_count": 54,
   "metadata": {},
   "outputs": [],
   "source": [
    "# Create a random array with numbers between 0 and 10 of size (7, 2)\n",
    "random_array = np.random.randint(0, 10, size=(7, 2))"
   ]
  },
  {
   "cell_type": "code",
   "execution_count": 55,
   "metadata": {},
   "outputs": [],
   "source": [
    "# Create a random array of floats between 0 & 1 of shape (3, 5)\n",
    "random_float_array = np.random.rand(3, 5)"
   ]
  },
  {
   "cell_type": "code",
   "execution_count": 56,
   "metadata": {},
   "outputs": [
    {
     "name": "stdout",
     "output_type": "stream",
     "text": [
      "[[6 3 7 4 6 9]\n",
      " [2 6 7 4 3 7]\n",
      " [7 2 5 4 1 7]\n",
      " [5 1 4 0 9 5]]\n"
     ]
    }
   ],
   "source": [
    "# Set the random seed to 42\n",
    "np.random.seed(42)\n",
    "\n",
    "\n",
    "# Create a random array of numbers between 0 & 10 of size (4, 6)\n",
    "random_seeded_array = np.random.randint(0, 10, size=(4, 6))\n",
    "print(random_seeded_array)\n",
    "\n"
   ]
  },
  {
   "cell_type": "markdown",
   "metadata": {},
   "source": [
    "Run the cell above again, what happens?\n",
    "\n",
    "Are the numbers in the array different or the same? Why do think this is?"
   ]
  },
  {
   "cell_type": "markdown",
   "metadata": {},
   "source": [
    "# when you run the cell again, the numbers in the array will be the same. This happens because setting the random seed (np.random.seed(42)) ensures that the random number generator produces the same sequence of numbers every time."
   ]
  },
  {
   "cell_type": "code",
   "execution_count": 57,
   "metadata": {},
   "outputs": [
    {
     "name": "stdout",
     "output_type": "stream",
     "text": [
      "[1 2 3 4 5 7 9]\n"
     ]
    }
   ],
   "source": [
    "# Create an array of random numbers between 1 & 10 of size (3, 7)\n",
    "# and save it to a variable\n",
    "random_array_3x7 = np.random.randint(1, 10, size=(3, 7))\n",
    "\n",
    "\n",
    "# Find the unique numbers in the array you just created\n",
    "unique_numbers = np.unique(random_array_3x7)\n",
    "print(unique_numbers)"
   ]
  },
  {
   "cell_type": "code",
   "execution_count": 58,
   "metadata": {},
   "outputs": [
    {
     "name": "stdout",
     "output_type": "stream",
     "text": [
      "[9 1 3 7 4 9 3]\n"
     ]
    }
   ],
   "source": [
    "# Find the 0'th index of the latest array you created\n",
    "print(random_array_3x7[0])"
   ]
  },
  {
   "cell_type": "code",
   "execution_count": 59,
   "metadata": {},
   "outputs": [
    {
     "name": "stdout",
     "output_type": "stream",
     "text": [
      "[[9 1 3 7 4 9 3]\n",
      " [5 3 7 5 9 7 2]]\n"
     ]
    }
   ],
   "source": [
    "# Get the first 2 rows of latest array you created\n",
    "print(random_array_3x7[:2])"
   ]
  },
  {
   "cell_type": "code",
   "execution_count": 60,
   "metadata": {},
   "outputs": [
    {
     "name": "stdout",
     "output_type": "stream",
     "text": [
      "[[9 1]\n",
      " [5 3]]\n"
     ]
    }
   ],
   "source": [
    "# Get the first 2 values of the first 2 rows of the latest array\n",
    "\n",
    "print(random_array_3x7[:2, :2])\n"
   ]
  },
  {
   "cell_type": "code",
   "execution_count": 61,
   "metadata": {},
   "outputs": [],
   "source": [
    "# Create a random array of numbers between 0 & 10 and an array of ones\n",
    "# both of size (3, 5), save them both to variables\n",
    "\n",
    "random_array_3x5 = np.random.randint(0, 10, size=(3, 5))\n",
    "ones_array_3x5 = np.ones((3, 5))\n",
    "\n"
   ]
  },
  {
   "cell_type": "code",
   "execution_count": 62,
   "metadata": {},
   "outputs": [
    {
     "name": "stdout",
     "output_type": "stream",
     "text": [
      "[[ 7.  8.  3.  1.  4.]\n",
      " [ 2.  8.  4.  2.  6.]\n",
      " [ 6. 10.  4.  6.  2.]]\n"
     ]
    }
   ],
   "source": [
    "# Add the two arrays together\n",
    "added_array = random_array_3x5 + ones_array_3x5\n",
    "print(added_array)\n"
   ]
  },
  {
   "cell_type": "code",
   "execution_count": 63,
   "metadata": {},
   "outputs": [],
   "source": [
    "# Create another array of ones of shape (5, 3)\n",
    "ones_array_5x3 = np.ones((5, 3))\n"
   ]
  },
  {
   "cell_type": "code",
   "execution_count": 64,
   "metadata": {},
   "outputs": [
    {
     "ename": "ValueError",
     "evalue": "operands could not be broadcast together with shapes (3,5) (5,3) ",
     "output_type": "error",
     "traceback": [
      "\u001b[1;31m---------------------------------------------------------------------------\u001b[0m",
      "\u001b[1;31mValueError\u001b[0m                                Traceback (most recent call last)",
      "Cell \u001b[1;32mIn[64], line 2\u001b[0m\n\u001b[0;32m      1\u001b[0m \u001b[38;5;66;03m# Try add the array of ones and the other most recent array together\u001b[39;00m\n\u001b[1;32m----> 2\u001b[0m added_arrays \u001b[38;5;241m=\u001b[39m \u001b[43mrandom_array_3x5\u001b[49m\u001b[43m \u001b[49m\u001b[38;5;241;43m+\u001b[39;49m\u001b[43m \u001b[49m\u001b[43mones_array_5x3\u001b[49m\n\u001b[0;32m      3\u001b[0m \u001b[38;5;28mprint\u001b[39m(added_arrays)\n",
      "\u001b[1;31mValueError\u001b[0m: operands could not be broadcast together with shapes (3,5) (5,3) "
     ]
    }
   ],
   "source": [
    "# Try add the array of ones and the other most recent array together\n",
    "added_arrays = random_array_3x5 + ones_array_5x3\n",
    "print(added_arrays)"
   ]
  },
  {
   "cell_type": "markdown",
   "metadata": {},
   "source": [
    "When you try the last cell, it produces an error. Why do think this is?\n",
    "\n",
    "How would you fix it?"
   ]
  },
  {
   "cell_type": "markdown",
   "metadata": {},
   "source": [
    "# # we need to reshape or transpose one of the arrays\n"
   ]
  },
  {
   "cell_type": "code",
   "execution_count": 65,
   "metadata": {},
   "outputs": [
    {
     "name": "stdout",
     "output_type": "stream",
     "text": [
      "[[ 7.  8.  3.  1.  4.]\n",
      " [ 2.  8.  4.  2.  6.]\n",
      " [ 6. 10.  4.  6.  2.]]\n"
     ]
    }
   ],
   "source": [
    "\n",
    "# transpose the ones array to make it (3, 5)\n",
    "transposed_ones = ones_array_5x3.T\n",
    "\n",
    "added_array_fixed = random_array_3x5 + transposed_ones\n",
    "print(added_array_fixed)"
   ]
  },
  {
   "cell_type": "code",
   "execution_count": 66,
   "metadata": {},
   "outputs": [],
   "source": [
    "# Create another array of ones of shape (3, 5)\n",
    "new_ones_array = np.ones((3, 5))\n"
   ]
  },
  {
   "cell_type": "code",
   "execution_count": 67,
   "metadata": {},
   "outputs": [
    {
     "name": "stdout",
     "output_type": "stream",
     "text": [
      "[[ 5.  6.  1. -1.  2.]\n",
      " [ 0.  6.  2.  0.  4.]\n",
      " [ 4.  8.  2.  4.  0.]]\n"
     ]
    }
   ],
   "source": [
    "# Subtract the new array of ones from the other most recent array\n",
    "subtracted_array = random_array_3x5 - new_ones_array\n",
    "print(subtracted_array)"
   ]
  },
  {
   "cell_type": "code",
   "execution_count": 68,
   "metadata": {},
   "outputs": [
    {
     "name": "stdout",
     "output_type": "stream",
     "text": [
      "[[6. 7. 2. 0. 3.]\n",
      " [1. 7. 3. 1. 5.]\n",
      " [5. 9. 3. 5. 1.]]\n"
     ]
    }
   ],
   "source": [
    "# Multiply the ones array with the latest array\n",
    "multiplied_array = random_array_3x5 * new_ones_array\n",
    "print(multiplied_array)"
   ]
  },
  {
   "cell_type": "code",
   "execution_count": 69,
   "metadata": {},
   "outputs": [
    {
     "name": "stdout",
     "output_type": "stream",
     "text": [
      "[[36 49  4  0  9]\n",
      " [ 1 49  9  1 25]\n",
      " [25 81  9 25  1]]\n"
     ]
    }
   ],
   "source": [
    "# Take the latest array to the power of 2 using '**'\n",
    "power_array = random_array_3x5 ** 2\n",
    "print(power_array)"
   ]
  },
  {
   "cell_type": "code",
   "execution_count": 70,
   "metadata": {},
   "outputs": [
    {
     "name": "stdout",
     "output_type": "stream",
     "text": [
      "[[36 49  4  0  9]\n",
      " [ 1 49  9  1 25]\n",
      " [25 81  9 25  1]]\n"
     ]
    }
   ],
   "source": [
    "# Do the same thing with np.square()\n",
    "square_array = np.square(random_array_3x5)\n",
    "print(square_array)"
   ]
  },
  {
   "cell_type": "code",
   "execution_count": 71,
   "metadata": {},
   "outputs": [
    {
     "name": "stdout",
     "output_type": "stream",
     "text": [
      "Mean: 3.8666666666666667\n"
     ]
    }
   ],
   "source": [
    "# Find the mean of the latest array using np.mean()\n",
    "mean_value = np.mean(random_array_3x5)\n",
    "print(\"Mean:\", mean_value)"
   ]
  },
  {
   "cell_type": "code",
   "execution_count": 72,
   "metadata": {},
   "outputs": [
    {
     "name": "stdout",
     "output_type": "stream",
     "text": [
      "Max: 9\n"
     ]
    }
   ],
   "source": [
    "# Find the maximum of the latest array using np.max()\n",
    "max_value = np.max(random_array_3x5)\n",
    "print(\"Max:\", max_value)"
   ]
  },
  {
   "cell_type": "code",
   "execution_count": 73,
   "metadata": {},
   "outputs": [
    {
     "name": "stdout",
     "output_type": "stream",
     "text": [
      "Min: 0\n"
     ]
    }
   ],
   "source": [
    "# Find the minimum of the latest array using np.min()\n",
    "min_value = np.min(random_array_3x5)\n",
    "print(\"Min:\", min_value)\n"
   ]
  },
  {
   "cell_type": "code",
   "execution_count": 74,
   "metadata": {},
   "outputs": [
    {
     "name": "stdout",
     "output_type": "stream",
     "text": [
      "Standard Deviation: 2.578543947441829\n"
     ]
    }
   ],
   "source": [
    "# Find the standard deviation of the latest array\n",
    "std_dev = np.std(random_array_3x5)\n",
    "print(\"Standard Deviation:\", std_dev)"
   ]
  },
  {
   "cell_type": "code",
   "execution_count": 75,
   "metadata": {},
   "outputs": [
    {
     "name": "stdout",
     "output_type": "stream",
     "text": [
      "Variance: 6.648888888888889\n"
     ]
    }
   ],
   "source": [
    "# Find the variance of the latest array\n",
    "variance = np.var(random_array_3x5)\n",
    "print(\"Variance:\", variance)"
   ]
  },
  {
   "cell_type": "code",
   "execution_count": 76,
   "metadata": {},
   "outputs": [
    {
     "name": "stdout",
     "output_type": "stream",
     "text": [
      "[[[6]\n",
      "  [7]\n",
      "  [2]\n",
      "  [0]\n",
      "  [3]]\n",
      "\n",
      " [[1]\n",
      "  [7]\n",
      "  [3]\n",
      "  [1]\n",
      "  [5]]\n",
      "\n",
      " [[5]\n",
      "  [9]\n",
      "  [3]\n",
      "  [5]\n",
      "  [1]]]\n"
     ]
    }
   ],
   "source": [
    "# Reshape the latest array to (3, 5, 1)\n",
    "reshaped_array = random_array_3x5.reshape((3, 5, 1))\n",
    "print(reshaped_array)"
   ]
  },
  {
   "cell_type": "code",
   "execution_count": 77,
   "metadata": {},
   "outputs": [
    {
     "name": "stdout",
     "output_type": "stream",
     "text": [
      "[[6 1 5]\n",
      " [7 7 9]\n",
      " [2 3 3]\n",
      " [0 1 5]\n",
      " [3 5 1]]\n"
     ]
    }
   ],
   "source": [
    "# Transpose the latest array\n",
    "transposed_array = random_array_3x5.T\n",
    "print(transposed_array)"
   ]
  },
  {
   "cell_type": "markdown",
   "metadata": {},
   "source": [
    "What does the transpose do?"
   ]
  },
  {
   "cell_type": "markdown",
   "metadata": {},
   "source": [
    "# transpose flips the axes of the array"
   ]
  },
  {
   "cell_type": "code",
   "execution_count": 78,
   "metadata": {},
   "outputs": [
    {
     "name": "stdout",
     "output_type": "stream",
     "text": [
      "Original array:\n",
      "[[1 2 3]\n",
      " [4 5 6]]\n",
      "Transposed array:\n",
      "[[1 4]\n",
      " [2 5]\n",
      " [3 6]]\n"
     ]
    }
   ],
   "source": [
    "import numpy as np\n",
    "\n",
    "arr = np.array([[1, 2, 3],\n",
    "                [4, 5, 6]])\n",
    "print(\"Original array:\")\n",
    "print(arr)  # Shape: (2, 3)\n",
    "\n",
    "transposed_arr = arr.T\n",
    "print(\"Transposed array:\")\n",
    "print(transposed_arr)  # Shape: (3, 2)\n",
    "\n",
    "# transpose flips the axes of the array"
   ]
  },
  {
   "cell_type": "code",
   "execution_count": 79,
   "metadata": {},
   "outputs": [],
   "source": [
    "# Create two arrays of random integers between 0 to 10\n",
    "# one of size (3, 3) the other of size (3, 2)\n",
    "array1 = np.random.randint(0, 10, size=(3, 3))\n",
    "array2 = np.random.randint(0, 10, size=(3, 2))\n"
   ]
  },
  {
   "cell_type": "code",
   "execution_count": 80,
   "metadata": {},
   "outputs": [
    {
     "name": "stdout",
     "output_type": "stream",
     "text": [
      "[[ 88 117]\n",
      " [100 123]\n",
      " [ 89 127]]\n"
     ]
    }
   ],
   "source": [
    "# Perform a dot product on the two newest arrays you created\n",
    "dot_product = np.dot(array1, array2)\n",
    "print(dot_product)\n"
   ]
  },
  {
   "cell_type": "code",
   "execution_count": 81,
   "metadata": {},
   "outputs": [],
   "source": [
    "# Create two arrays of random integers between 0 to 10\n",
    "# both of size (4, 3)\n",
    "array3 = np.random.randint(0, 10, size=(4, 3))\n",
    "array4 = np.random.randint(0, 10, size=(4, 3))\n"
   ]
  },
  {
   "cell_type": "code",
   "execution_count": 82,
   "metadata": {},
   "outputs": [
    {
     "ename": "ValueError",
     "evalue": "shapes (4,3) and (4,3) not aligned: 3 (dim 1) != 4 (dim 0)",
     "output_type": "error",
     "traceback": [
      "\u001b[1;31m---------------------------------------------------------------------------\u001b[0m",
      "\u001b[1;31mValueError\u001b[0m                                Traceback (most recent call last)",
      "Cell \u001b[1;32mIn[82], line 2\u001b[0m\n\u001b[0;32m      1\u001b[0m \u001b[38;5;66;03m# Perform a dot product on the two newest arrays you created\u001b[39;00m\n\u001b[1;32m----> 2\u001b[0m dot_product2 \u001b[38;5;241m=\u001b[39m \u001b[43mnp\u001b[49m\u001b[38;5;241;43m.\u001b[39;49m\u001b[43mdot\u001b[49m\u001b[43m(\u001b[49m\u001b[43marray3\u001b[49m\u001b[43m,\u001b[49m\u001b[43m \u001b[49m\u001b[43marray4\u001b[49m\u001b[43m)\u001b[49m\n\u001b[0;32m      3\u001b[0m \u001b[38;5;28mprint\u001b[39m(dot_product2)\n",
      "\u001b[1;31mValueError\u001b[0m: shapes (4,3) and (4,3) not aligned: 3 (dim 1) != 4 (dim 0)"
     ]
    }
   ],
   "source": [
    "# Perform a dot product on the two newest arrays you created\n",
    "dot_product2 = np.dot(array3, array4)\n",
    "print(dot_product2)\n",
    "\n"
   ]
  },
  {
   "cell_type": "markdown",
   "metadata": {},
   "source": [
    "It doesn't work. How would you fix it?"
   ]
  },
  {
   "cell_type": "code",
   "execution_count": 83,
   "metadata": {},
   "outputs": [
    {
     "name": "stdout",
     "output_type": "stream",
     "text": [
      "[[ 24 102  96   8]\n",
      " [ 16 114 106  63]\n",
      " [ 22 123 114  56]\n",
      " [  8  60  58   7]]\n"
     ]
    }
   ],
   "source": [
    "# Take the latest two arrays, perform a transpose on one of them and then perform \n",
    "# a dot product on them both\n",
    "transposed_array4 = array4.T\n",
    "dot_product_fixed = np.dot(array3, transposed_array4)\n",
    "print(dot_product_fixed)"
   ]
  },
  {
   "cell_type": "markdown",
   "metadata": {},
   "source": [
    "Notice how performing a transpose allows the dot product to happen.\n",
    "\n",
    "Why is this?\n",
    "\n",
    "Checking out the documentation on [`np.dot()`](https://docs.scipy.org/doc/numpy/reference/generated/numpy.dot.html) may help, as well as reading [Math is Fun's guide on the dot product](https://www.mathsisfun.com/algebra/vectors-dot-product.html).\n",
    "\n",
    "Let's now compare arrays."
   ]
  },
  {
   "cell_type": "code",
   "execution_count": 84,
   "metadata": {},
   "outputs": [],
   "source": [
    "# Create two arrays of random integers between 0 & 10 of the same shape\n",
    "# and save them to variables\n",
    "array5 = np.random.randint(0, 10, size=(3, 3))\n",
    "array6 = np.random.randint(0, 10, size=(3, 3))"
   ]
  },
  {
   "cell_type": "code",
   "execution_count": 85,
   "metadata": {},
   "outputs": [
    {
     "name": "stdout",
     "output_type": "stream",
     "text": [
      "[[ True  True  True]\n",
      " [ True False False]\n",
      " [False False False]]\n"
     ]
    }
   ],
   "source": [
    "# Compare the two arrays with '>'\n",
    "comparison = array5 > array6\n",
    "print(comparison)"
   ]
  },
  {
   "cell_type": "markdown",
   "metadata": {},
   "source": [
    "What happens when you compare the arrays with `>`?"
   ]
  },
  {
   "cell_type": "code",
   "execution_count": 86,
   "metadata": {},
   "outputs": [
    {
     "name": "stdout",
     "output_type": "stream",
     "text": [
      "[[ True  True  True]\n",
      " [ True False False]\n",
      " [False False False]]\n"
     ]
    }
   ],
   "source": [
    "# Compare the two arrays with '>='\n",
    "comparison_ge = array5 >= array6\n",
    "print(comparison_ge)"
   ]
  },
  {
   "cell_type": "code",
   "execution_count": 87,
   "metadata": {},
   "outputs": [
    {
     "name": "stdout",
     "output_type": "stream",
     "text": [
      "[[False False False]\n",
      " [False False False]\n",
      " [False False False]]\n"
     ]
    }
   ],
   "source": [
    "# Find which elements of the first array are greater than 7\n",
    "greater_than_7 = array5 > 7\n",
    "print(greater_than_7)"
   ]
  },
  {
   "cell_type": "code",
   "execution_count": 88,
   "metadata": {},
   "outputs": [
    {
     "name": "stdout",
     "output_type": "stream",
     "text": [
      "[[False False False]\n",
      " [False False False]\n",
      " [False False False]]\n"
     ]
    }
   ],
   "source": [
    "# Which parts of each array are equal? (try using '==')\n",
    "equal_elements = array5 == array6\n",
    "print(equal_elements)"
   ]
  },
  {
   "cell_type": "code",
   "execution_count": 89,
   "metadata": {},
   "outputs": [
    {
     "name": "stdout",
     "output_type": "stream",
     "text": [
      "[[6 6 7]\n",
      " [2 4 7]\n",
      " [0 2 5]]\n"
     ]
    }
   ],
   "source": [
    "# Sort one of the arrays you just created in ascending order\n",
    "sorted_array = np.sort(array5)\n",
    "print(sorted_array)"
   ]
  },
  {
   "cell_type": "code",
   "execution_count": 90,
   "metadata": {},
   "outputs": [
    {
     "name": "stdout",
     "output_type": "stream",
     "text": [
      "[[0 1 2]\n",
      " [1 0 2]\n",
      " [2 1 0]]\n"
     ]
    }
   ],
   "source": [
    "# Sort the indexes of one of the arrays you just created\n",
    "sorted_indexes = np.argsort(array5)\n",
    "print(sorted_indexes)"
   ]
  },
  {
   "cell_type": "code",
   "execution_count": 91,
   "metadata": {},
   "outputs": [
    {
     "name": "stdout",
     "output_type": "stream",
     "text": [
      "2\n"
     ]
    }
   ],
   "source": [
    "# Find the index with the maximum value in one of the arrays you've created\n",
    "max_index = np.argmax(array5)\n",
    "print(max_index)"
   ]
  },
  {
   "cell_type": "code",
   "execution_count": 92,
   "metadata": {},
   "outputs": [
    {
     "name": "stdout",
     "output_type": "stream",
     "text": [
      "8\n"
     ]
    }
   ],
   "source": [
    "# Find the index with the minimum value in one of the arrays you've created\n",
    "min_index = np.argmin(array5)\n",
    "print(min_index)"
   ]
  },
  {
   "cell_type": "code",
   "execution_count": 93,
   "metadata": {},
   "outputs": [
    {
     "name": "stdout",
     "output_type": "stream",
     "text": [
      "[2 2 0]\n"
     ]
    }
   ],
   "source": [
    "# Find the indexes with the maximum values down the 1st axis (axis=1)\n",
    "# of one of the arrays you created\n",
    "max_indexes_axis1 = np.argmax(array5, axis=1)\n",
    "print(max_indexes_axis1)"
   ]
  },
  {
   "cell_type": "code",
   "execution_count": 94,
   "metadata": {},
   "outputs": [
    {
     "name": "stdout",
     "output_type": "stream",
     "text": [
      "[1 1 2]\n"
     ]
    }
   ],
   "source": [
    "# Find the indexes with the minimum values across the 0th axis (axis=0)\n",
    "# of one of the arrays you created\n",
    "min_indexes_axis0 = np.argmin(array5, axis=0)\n",
    "print(min_indexes_axis0)"
   ]
  },
  {
   "cell_type": "code",
   "execution_count": 95,
   "metadata": {},
   "outputs": [
    {
     "name": "stdout",
     "output_type": "stream",
     "text": [
      "[  1.  12.  23.  34.  45.  56.  67.  78.  89. 100.]\n"
     ]
    }
   ],
   "source": [
    "# Create an array with 10 evenly spaced numbers between 1 and 100\n",
    "evenly_spaced_array = np.linspace(1, 100, 10)\n",
    "print(evenly_spaced_array)"
   ]
  }
 ],
 "metadata": {
  "kernelspec": {
   "display_name": "Python 3",
   "language": "python",
   "name": "python3"
  },
  "language_info": {
   "codemirror_mode": {
    "name": "ipython",
    "version": 3
   },
   "file_extension": ".py",
   "mimetype": "text/x-python",
   "name": "python",
   "nbconvert_exporter": "python",
   "pygments_lexer": "ipython3",
   "version": "3.10.9"
  }
 },
 "nbformat": 4,
 "nbformat_minor": 4
}
